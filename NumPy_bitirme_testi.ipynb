{
  "cells": [
    {
      "cell_type": "markdown",
      "metadata": {
        "id": "sT1sxdkaQDV4"
      },
      "source": [
        "# NumPy Exercises\n",
        "\n",
        "Bu zamana kadar gördüğümüz konularla alakalı bilgilerimizi test edelim\n",
        "\n",
        "<div class=\"alert alert-danger\" style=\"margin: 10px\"><strong>Uyarı!</strong> Output'un üstündeki kod hücrelerini çalıştırmayın !, <br>Aksi takdirde notebooktaki cevap outputlarını kaybedebilirsiniz!</div>"
      ]
    },
    {
      "cell_type": "markdown",
      "metadata": {
        "id": "hYJgs5S0QDV9"
      },
      "source": [
        "#### 1. NumPy kütüphanesi np kısaltması ile import edin"
      ]
    },
    {
      "cell_type": "code",
      "execution_count": 2,
      "metadata": {
        "collapsed": true,
        "id": "EbrSQx98QDV-"
      },
      "outputs": [],
      "source": [
        "import numpy as np"
      ]
    },
    {
      "cell_type": "markdown",
      "metadata": {
        "id": "qF2vv0CAQDV_"
      },
      "source": [
        "#### 2. 10 tane 0 değerinden oluşan bir array oluşturun"
      ]
    },
    {
      "cell_type": "code",
      "execution_count": 14,
      "metadata": {
        "collapsed": true,
        "colab": {
          "base_uri": "https://localhost:8080/"
        },
        "id": "YDLwCkjrQDWA",
        "outputId": "4fb45b8c-7cf9-43fa-8cea-5c50fb98d799"
      },
      "outputs": [
        {
          "output_type": "execute_result",
          "data": {
            "text/plain": [
              "array([0, 0, 0, 0, 0, 0, 0, 0, 0, 0])"
            ]
          },
          "metadata": {},
          "execution_count": 14
        }
      ],
      "source": [
        "np.zeros(10 , dtype= 'int')"
      ]
    },
    {
      "cell_type": "code",
      "execution_count": 3,
      "metadata": {
        "colab": {
          "base_uri": "https://localhost:8080/"
        },
        "id": "bqz9GXKBQDWB",
        "outputId": "1c1c7881-8f38-427c-e4fc-ae25a31c5dc7"
      },
      "outputs": [
        {
          "output_type": "execute_result",
          "data": {
            "text/plain": [
              "array([0, 0, 0, 0, 0, 0, 0, 0, 0, 0])"
            ]
          },
          "metadata": {},
          "execution_count": 3
        }
      ],
      "source": [
        "# Bu hücreye kod yazıp çalıştırma !"
      ]
    },
    {
      "cell_type": "markdown",
      "metadata": {
        "id": "M7qUPwgFQDWD"
      },
      "source": [
        "#### 3. 10 tane 1 değerinden oluşan bir array oluşturun"
      ]
    },
    {
      "cell_type": "code",
      "execution_count": 15,
      "metadata": {
        "collapsed": true,
        "colab": {
          "base_uri": "https://localhost:8080/"
        },
        "id": "KnLeWJnwQDWD",
        "outputId": "23675d8a-035a-40bc-bddc-c5e05f320888"
      },
      "outputs": [
        {
          "output_type": "execute_result",
          "data": {
            "text/plain": [
              "array([1, 1, 1, 1, 1, 1, 1, 1, 1, 1])"
            ]
          },
          "metadata": {},
          "execution_count": 15
        }
      ],
      "source": [
        "np.ones(10 , dtype=int)"
      ]
    },
    {
      "cell_type": "code",
      "execution_count": 4,
      "metadata": {
        "colab": {
          "base_uri": "https://localhost:8080/"
        },
        "id": "3O2hYPGqQDWD",
        "outputId": "1acb96d2-223c-4cc5-fada-af25b9c1751c"
      },
      "outputs": [
        {
          "output_type": "execute_result",
          "data": {
            "text/plain": [
              "array([1, 1, 1, 1, 1, 1, 1, 1, 1, 1])"
            ]
          },
          "metadata": {},
          "execution_count": 4
        }
      ],
      "source": [
        "# Bu hücreye kod yazıp çalıştırma !"
      ]
    },
    {
      "cell_type": "markdown",
      "metadata": {
        "id": "Kj8T5WYRQDWE"
      },
      "source": [
        "#### 4. 10 tane 5 değerinden oluşan bir array oluşturun"
      ]
    },
    {
      "cell_type": "code",
      "execution_count": 16,
      "metadata": {
        "collapsed": true,
        "colab": {
          "base_uri": "https://localhost:8080/"
        },
        "id": "OuQSj5i_QDWF",
        "outputId": "b17612dc-c0ce-46d6-c005-05bab83a86df"
      },
      "outputs": [
        {
          "output_type": "execute_result",
          "data": {
            "text/plain": [
              "array([5., 5., 5., 5., 5., 5., 5., 5., 5., 5.])"
            ]
          },
          "metadata": {},
          "execution_count": 16
        }
      ],
      "source": [
        "np.ones(10)*5"
      ]
    },
    {
      "cell_type": "code",
      "execution_count": null,
      "metadata": {
        "id": "lm3IqUNWQDWF",
        "outputId": "8e815ba0-bc1f-41ed-bc16-5f68b53fb911"
      },
      "outputs": [
        {
          "data": {
            "text/plain": [
              "array([5., 5., 5., 5., 5., 5., 5., 5., 5., 5.])"
            ]
          },
          "execution_count": 4,
          "metadata": {},
          "output_type": "execute_result"
        }
      ],
      "source": [
        "# Bu hücreye kod yazıp çalıştırma !"
      ]
    },
    {
      "cell_type": "markdown",
      "metadata": {
        "id": "5v6525HYQDWG"
      },
      "source": [
        "#### 5. 10'dan 50'ye kadar(10 ve 50 dahil) ardışık tam sayılardan oluşan bir array oluşturalım"
      ]
    },
    {
      "cell_type": "code",
      "execution_count": 17,
      "metadata": {
        "collapsed": true,
        "colab": {
          "base_uri": "https://localhost:8080/"
        },
        "id": "tL8q4LohQDWG",
        "outputId": "9581409b-dc7e-41ab-e569-3cb5dbb4a281"
      },
      "outputs": [
        {
          "output_type": "execute_result",
          "data": {
            "text/plain": [
              "array([10, 11, 12, 13, 14, 15, 16, 17, 18, 19, 20, 21, 22, 23, 24, 25, 26,\n",
              "       27, 28, 29, 30, 31, 32, 33, 34, 35, 36, 37, 38, 39, 40, 41, 42, 43,\n",
              "       44, 45, 46, 47, 48, 49, 50])"
            ]
          },
          "metadata": {},
          "execution_count": 17
        }
      ],
      "source": [
        "np.arange(10,51)"
      ]
    },
    {
      "cell_type": "code",
      "execution_count": 3,
      "metadata": {
        "colab": {
          "base_uri": "https://localhost:8080/"
        },
        "id": "ZSDIvVvJQDWG",
        "outputId": "b45f8125-f006-4ee9-88fe-49a7992f745a"
      },
      "outputs": [
        {
          "output_type": "execute_result",
          "data": {
            "text/plain": [
              "array([10, 11, 12, 13, 14, 15, 16, 17, 18, 19, 20, 21, 22, 23, 24, 25, 26,\n",
              "       27, 28, 29, 30, 31, 32, 33, 34, 35, 36, 37, 38, 39, 40, 41, 42, 43,\n",
              "       44, 45, 46, 47, 48, 49, 50])"
            ]
          },
          "metadata": {},
          "execution_count": 3
        }
      ],
      "source": [
        "# Bu hücreye kod yazıp çalıştırma !"
      ]
    },
    {
      "cell_type": "markdown",
      "metadata": {
        "id": "HyzquUKDQDWH"
      },
      "source": [
        "#### 6. 10 ve 50 arasındaki çift tam sayılardan oluşan bir array oluşturalım. (10 ve 50 dahil)"
      ]
    },
    {
      "cell_type": "code",
      "execution_count": 18,
      "metadata": {
        "collapsed": true,
        "colab": {
          "base_uri": "https://localhost:8080/"
        },
        "id": "vPV007pdQDWH",
        "outputId": "91061413-8235-4978-9ccf-0fcaa457c614"
      },
      "outputs": [
        {
          "output_type": "execute_result",
          "data": {
            "text/plain": [
              "array([10, 12, 14, 16, 18, 20, 22, 24, 26, 28, 30, 32, 34, 36, 38, 40, 42,\n",
              "       44, 46, 48, 50])"
            ]
          },
          "metadata": {},
          "execution_count": 18
        }
      ],
      "source": [
        "np.arange(10,51,2)"
      ]
    },
    {
      "cell_type": "code",
      "execution_count": 4,
      "metadata": {
        "colab": {
          "base_uri": "https://localhost:8080/"
        },
        "id": "i-5edACJQDWI",
        "outputId": "12801456-e889-470d-b3e9-94ff4cf7a693"
      },
      "outputs": [
        {
          "output_type": "execute_result",
          "data": {
            "text/plain": [
              "array([10, 12, 14, 16, 18, 20, 22, 24, 26, 28, 30, 32, 34, 36, 38, 40, 42,\n",
              "       44, 46, 48, 50])"
            ]
          },
          "metadata": {},
          "execution_count": 4
        }
      ],
      "source": [
        "# Bu hücreye kod yazıp çalıştırma !"
      ]
    },
    {
      "cell_type": "markdown",
      "metadata": {
        "id": "RoKxw2U6QDWI"
      },
      "source": [
        "#### 7. 3x3 shape'inde 0'dan 8'e kadar toplam 9 tam sayıdan oluşan bir array oluşturalım"
      ]
    },
    {
      "cell_type": "code",
      "execution_count": 19,
      "metadata": {
        "collapsed": true,
        "colab": {
          "base_uri": "https://localhost:8080/"
        },
        "id": "lJ9r4EuNQDWJ",
        "outputId": "2ad7acf9-785b-469e-f3c7-8f3c2b63f564"
      },
      "outputs": [
        {
          "output_type": "execute_result",
          "data": {
            "text/plain": [
              "array([[0, 1, 2],\n",
              "       [3, 4, 5],\n",
              "       [6, 7, 8]])"
            ]
          },
          "metadata": {},
          "execution_count": 19
        }
      ],
      "source": [
        "np.arange(0,9).reshape(3,3)"
      ]
    },
    {
      "cell_type": "code",
      "execution_count": 5,
      "metadata": {
        "colab": {
          "base_uri": "https://localhost:8080/"
        },
        "id": "EX4sp_ysQDWJ",
        "outputId": "33048f0c-cc24-42b3-fcfc-d7fb32a10a11"
      },
      "outputs": [
        {
          "output_type": "execute_result",
          "data": {
            "text/plain": [
              "array([[0, 1, 2],\n",
              "       [3, 4, 5],\n",
              "       [6, 7, 8]])"
            ]
          },
          "metadata": {},
          "execution_count": 5
        }
      ],
      "source": [
        "# Bu hücreye kod yazıp çalıştırma !"
      ]
    },
    {
      "cell_type": "markdown",
      "metadata": {
        "id": "iU-dGx0UQDWK"
      },
      "source": [
        "#### 8. 3x3 boyutlarında birim matris oluşturun"
      ]
    },
    {
      "cell_type": "code",
      "execution_count": 20,
      "metadata": {
        "collapsed": true,
        "colab": {
          "base_uri": "https://localhost:8080/"
        },
        "id": "lzHHPIq1QDWK",
        "outputId": "0fd8bd29-e5fe-4bc2-e67e-8ccb85a34545"
      },
      "outputs": [
        {
          "output_type": "execute_result",
          "data": {
            "text/plain": [
              "array([[1., 0., 0.],\n",
              "       [0., 1., 0.],\n",
              "       [0., 0., 1.]])"
            ]
          },
          "metadata": {},
          "execution_count": 20
        }
      ],
      "source": [
        "np.eye(3)"
      ]
    },
    {
      "cell_type": "code",
      "execution_count": 6,
      "metadata": {
        "colab": {
          "base_uri": "https://localhost:8080/"
        },
        "id": "WIDBJviOQDWK",
        "outputId": "efba3830-e408-4145-bf24-4dcb60ac3827"
      },
      "outputs": [
        {
          "output_type": "execute_result",
          "data": {
            "text/plain": [
              "array([[1., 0., 0.],\n",
              "       [0., 1., 0.],\n",
              "       [0., 0., 1.]])"
            ]
          },
          "metadata": {},
          "execution_count": 6
        }
      ],
      "source": [
        "# Bu hücreye kod yazıp çalıştırma !"
      ]
    },
    {
      "cell_type": "markdown",
      "metadata": {
        "id": "8Izf71VPQDWL"
      },
      "source": [
        "#### 9. NumPy kullanarak 0-1 arasından rastgele bir sayı oluşturun. <br><br>&emsp;NOT: Değerler random seçildiği için sizin sonucunuz aşağıdaki çıktıdan farklı olacaktır"
      ]
    },
    {
      "cell_type": "code",
      "execution_count": 21,
      "metadata": {
        "collapsed": true,
        "colab": {
          "base_uri": "https://localhost:8080/"
        },
        "id": "QXXgUHizQDWL",
        "outputId": "0fa9c0dd-a954-42f4-d52c-110a570655d9"
      },
      "outputs": [
        {
          "output_type": "execute_result",
          "data": {
            "text/plain": [
              "array([0.06852291])"
            ]
          },
          "metadata": {},
          "execution_count": 21
        }
      ],
      "source": [
        "np.random.rand(1)"
      ]
    },
    {
      "cell_type": "code",
      "execution_count": 7,
      "metadata": {
        "colab": {
          "base_uri": "https://localhost:8080/"
        },
        "id": "r23eV6cFQDWM",
        "outputId": "21c6a234-a65e-427f-91a9-1b4d3a481a2a"
      },
      "outputs": [
        {
          "output_type": "execute_result",
          "data": {
            "text/plain": [
              "array([0.20308617])"
            ]
          },
          "metadata": {},
          "execution_count": 7
        }
      ],
      "source": [
        "# Bu hücreye kod yazıp çalıştırma !"
      ]
    },
    {
      "cell_type": "markdown",
      "metadata": {
        "id": "58ppIp4LQDWM"
      },
      "source": [
        "#### 10. NumPy kullanarak standart dağılıma sahip 25 random sayıdan oluşan bir array oluşturalım. <br><br>&emsp;&ensp;NOT: Sizin cevabınız aşağıdaki çıktıdan farklı olacaktır"
      ]
    },
    {
      "cell_type": "code",
      "execution_count": 22,
      "metadata": {
        "collapsed": true,
        "colab": {
          "base_uri": "https://localhost:8080/"
        },
        "id": "ly-bYfjiQDWN",
        "outputId": "0b0e93f3-e705-444f-b378-7d5eb40ead4c"
      },
      "outputs": [
        {
          "output_type": "execute_result",
          "data": {
            "text/plain": [
              "array([0.91557643, 0.94207685, 0.22446821, 0.35224013, 0.42317642,\n",
              "       0.40986093, 0.18796705, 0.83615364, 0.76507048, 0.84219931,\n",
              "       0.84100268, 0.79529007, 0.20997222, 0.974902  , 0.59770174,\n",
              "       0.16898819, 0.00159014, 0.45905477, 0.47709008, 0.05839521,\n",
              "       0.71015681, 0.30578823, 0.90233185, 0.65387949, 0.09672371])"
            ]
          },
          "metadata": {},
          "execution_count": 22
        }
      ],
      "source": [
        "np.random.rand(25)"
      ]
    },
    {
      "cell_type": "code",
      "execution_count": 8,
      "metadata": {
        "colab": {
          "base_uri": "https://localhost:8080/"
        },
        "id": "zsBrWd0mQDWN",
        "outputId": "af6aef95-13fa-4750-d2e7-67126c226720"
      },
      "outputs": [
        {
          "output_type": "execute_result",
          "data": {
            "text/plain": [
              "array([0.57542279, 0.41789832, 0.17110283, 0.58013565, 0.50461388,\n",
              "       0.6205302 , 0.37021405, 0.80967232, 0.11935321, 0.53370735,\n",
              "       0.85578729, 0.48367325, 0.15103948, 0.45330415, 0.00643794,\n",
              "       0.84074462, 0.7106187 , 0.62071192, 0.07329613, 0.10427419,\n",
              "       0.21857469, 0.93021856, 0.53704694, 0.62644154, 0.42573388])"
            ]
          },
          "metadata": {},
          "execution_count": 8
        }
      ],
      "source": [
        "# Bu hücreye kod yazıp çalıştırma !"
      ]
    },
    {
      "cell_type": "markdown",
      "metadata": {
        "id": "IFYdslPuQDWN"
      },
      "source": [
        "#### 11. Aşağıdaki çıktıdakine benzer array'i oluşturmaya çalışın"
      ]
    },
    {
      "cell_type": "code",
      "execution_count": 12,
      "metadata": {
        "collapsed": true,
        "colab": {
          "base_uri": "https://localhost:8080/"
        },
        "id": "SpCxSgOCQDWO",
        "outputId": "954ac871-b104-4ee8-f94b-a854cdbd4600"
      },
      "outputs": [
        {
          "output_type": "execute_result",
          "data": {
            "text/plain": [
              "array([0.01, 0.02, 0.03, 0.04, 0.05, 0.06, 0.07, 0.08, 0.09, 0.1 , 0.11,\n",
              "       0.12, 0.13, 0.14, 0.15, 0.16, 0.17, 0.18, 0.19, 0.2 , 0.21, 0.22,\n",
              "       0.23, 0.24, 0.25, 0.26, 0.27, 0.28, 0.29, 0.3 , 0.31, 0.32, 0.33,\n",
              "       0.34, 0.35, 0.36, 0.37, 0.38, 0.39, 0.4 , 0.41, 0.42, 0.43, 0.44,\n",
              "       0.45, 0.46, 0.47, 0.48, 0.49, 0.5 , 0.51, 0.52, 0.53, 0.54, 0.55,\n",
              "       0.56, 0.57, 0.58, 0.59, 0.6 , 0.61, 0.62, 0.63, 0.64, 0.65, 0.66,\n",
              "       0.67, 0.68, 0.69, 0.7 , 0.71, 0.72, 0.73, 0.74, 0.75, 0.76, 0.77,\n",
              "       0.78, 0.79, 0.8 , 0.81, 0.82, 0.83, 0.84, 0.85, 0.86, 0.87, 0.88,\n",
              "       0.89, 0.9 , 0.91, 0.92, 0.93, 0.94, 0.95, 0.96, 0.97, 0.98, 0.99,\n",
              "       1.  ])"
            ]
          },
          "metadata": {},
          "execution_count": 12
        }
      ],
      "source": [
        "np.arange(0.01 , 1.01, 0.01)"
      ]
    },
    {
      "cell_type": "code",
      "execution_count": 9,
      "metadata": {
        "colab": {
          "base_uri": "https://localhost:8080/"
        },
        "id": "aC-o4DUiQDWO",
        "outputId": "580ead34-3ed6-4535-a002-0451640e248c"
      },
      "outputs": [
        {
          "output_type": "execute_result",
          "data": {
            "text/plain": [
              "array([0.01, 0.02, 0.03, 0.04, 0.05, 0.06, 0.07, 0.08, 0.09, 0.1 , 0.11,\n",
              "       0.12, 0.13, 0.14, 0.15, 0.16, 0.17, 0.18, 0.19, 0.2 , 0.21, 0.22,\n",
              "       0.23, 0.24, 0.25, 0.26, 0.27, 0.28, 0.29, 0.3 , 0.31, 0.32, 0.33,\n",
              "       0.34, 0.35, 0.36, 0.37, 0.38, 0.39, 0.4 , 0.41, 0.42, 0.43, 0.44,\n",
              "       0.45, 0.46, 0.47, 0.48, 0.49, 0.5 , 0.51, 0.52, 0.53, 0.54, 0.55,\n",
              "       0.56, 0.57, 0.58, 0.59, 0.6 , 0.61, 0.62, 0.63, 0.64, 0.65, 0.66,\n",
              "       0.67, 0.68, 0.69, 0.7 , 0.71, 0.72, 0.73, 0.74, 0.75, 0.76, 0.77,\n",
              "       0.78, 0.79, 0.8 , 0.81, 0.82, 0.83, 0.84, 0.85, 0.86, 0.87, 0.88,\n",
              "       0.89, 0.9 , 0.91, 0.92, 0.93, 0.94, 0.95, 0.96, 0.97, 0.98, 0.99,\n",
              "       1.  ])"
            ]
          },
          "metadata": {},
          "execution_count": 9
        }
      ],
      "source": [
        "# Bu hücreye kod yazıp çalıştırma !"
      ]
    },
    {
      "cell_type": "markdown",
      "metadata": {
        "id": "5hMDL5qAQDWP"
      },
      "source": [
        "#### 12. 0-1 arasında lineer artış gösteren ve 20 sayıdan oluşan bir array oluşturun:"
      ]
    },
    {
      "cell_type": "code",
      "execution_count": 13,
      "metadata": {
        "collapsed": true,
        "colab": {
          "base_uri": "https://localhost:8080/"
        },
        "id": "fcIGJRurQDWP",
        "outputId": "b161a139-3110-4fdc-9d58-e4359d88c3d5"
      },
      "outputs": [
        {
          "output_type": "execute_result",
          "data": {
            "text/plain": [
              "array([0.        , 0.05263158, 0.10526316, 0.15789474, 0.21052632,\n",
              "       0.26315789, 0.31578947, 0.36842105, 0.42105263, 0.47368421,\n",
              "       0.52631579, 0.57894737, 0.63157895, 0.68421053, 0.73684211,\n",
              "       0.78947368, 0.84210526, 0.89473684, 0.94736842, 1.        ])"
            ]
          },
          "metadata": {},
          "execution_count": 13
        }
      ],
      "source": [
        "np.linspace(0,1,20)"
      ]
    },
    {
      "cell_type": "code",
      "execution_count": 10,
      "metadata": {
        "colab": {
          "base_uri": "https://localhost:8080/"
        },
        "id": "J0lPL_cwQDWQ",
        "outputId": "0d1cf46e-4e45-4ee7-9633-101fe076e58a"
      },
      "outputs": [
        {
          "output_type": "execute_result",
          "data": {
            "text/plain": [
              "array([0.        , 0.05263158, 0.10526316, 0.15789474, 0.21052632,\n",
              "       0.26315789, 0.31578947, 0.36842105, 0.42105263, 0.47368421,\n",
              "       0.52631579, 0.57894737, 0.63157895, 0.68421053, 0.73684211,\n",
              "       0.78947368, 0.84210526, 0.89473684, 0.94736842, 1.        ])"
            ]
          },
          "metadata": {},
          "execution_count": 10
        }
      ],
      "source": [
        "# Bu hücreye kod yazıp çalıştırma !"
      ]
    },
    {
      "cell_type": "markdown",
      "metadata": {
        "id": "slqpdRopQDWQ"
      },
      "source": [
        "## NumPy Indexing and Selection\n",
        "\n",
        "Aşağıdaki matris sıradaki sorular için bizim başlangıç matrisimiz. (Aşağıdaki kod hücresini çalıştırarak devam edin.), devamında sorduğumuz soruları cevaplamaya çalışın:\n"
      ]
    },
    {
      "cell_type": "code",
      "execution_count": 11,
      "metadata": {
        "colab": {
          "base_uri": "https://localhost:8080/"
        },
        "id": "h2kzbVHyQDWR",
        "outputId": "4e2590c7-93dc-473c-fe6e-5a4d6a55d69c"
      },
      "outputs": [
        {
          "output_type": "execute_result",
          "data": {
            "text/plain": [
              "array([[ 1,  2,  3,  4,  5],\n",
              "       [ 6,  7,  8,  9, 10],\n",
              "       [11, 12, 13, 14, 15],\n",
              "       [16, 17, 18, 19, 20],\n",
              "       [21, 22, 23, 24, 25]])"
            ]
          },
          "metadata": {},
          "execution_count": 11
        }
      ],
      "source": [
        "# RUN THIS CELL - THIS IS OUR STARTING MATRIX\n",
        "mat = np.arange(1,26).reshape(5,5)\n",
        "mat"
      ]
    },
    {
      "cell_type": "markdown",
      "metadata": {
        "id": "dsoNtzEFQDWS"
      },
      "source": [
        "#### 13. Aşağıda verilen matrisleri oluşturmaya çalışın.<br><br>&emsp;&ensp;Çıktıların üstündeki kod hücresini çalıştırmayın, aksi takdirde çıktıları göremezsiniz"
      ]
    },
    {
      "cell_type": "code",
      "execution_count": null,
      "metadata": {
        "collapsed": true,
        "id": "vJj6TbVgQDWS"
      },
      "outputs": [],
      "source": [
        "# Kodlarınızı buraya yazın"
      ]
    },
    {
      "cell_type": "code",
      "execution_count": null,
      "metadata": {
        "id": "nbQ4sorrQDWS",
        "outputId": "b13b380f-557a-49be-aecd-1a2c54ca33fd"
      },
      "outputs": [
        {
          "data": {
            "text/plain": [
              "array([[12, 13, 14, 15],\n",
              "       [17, 18, 19, 20],\n",
              "       [22, 23, 24, 25]])"
            ]
          },
          "execution_count": 14,
          "metadata": {},
          "output_type": "execute_result"
        }
      ],
      "source": [
        "# Bu hücreye kod yazıp çalıştırma !"
      ]
    },
    {
      "cell_type": "markdown",
      "metadata": {
        "id": "DTxjKKnFQDWT"
      },
      "source": [
        "#### 14. Write code that reproduces the output shown below."
      ]
    },
    {
      "cell_type": "code",
      "execution_count": 28,
      "metadata": {
        "collapsed": true,
        "colab": {
          "base_uri": "https://localhost:8080/"
        },
        "id": "dirOi4P-QDWT",
        "outputId": "a3f6db4a-ab08-4218-ab00-a0f3d2190f1f"
      },
      "outputs": [
        {
          "output_type": "execute_result",
          "data": {
            "text/plain": [
              "20"
            ]
          },
          "metadata": {},
          "execution_count": 28
        }
      ],
      "source": [
        "mat[3,4]"
      ]
    },
    {
      "cell_type": "code",
      "execution_count": null,
      "metadata": {
        "id": "K0pHVNiAQDWT",
        "outputId": "f1a99942-ef5c-417a-b33a-45b1cac7b91c"
      },
      "outputs": [
        {
          "data": {
            "text/plain": [
              "20"
            ]
          },
          "execution_count": 15,
          "metadata": {},
          "output_type": "execute_result"
        }
      ],
      "source": [
        "# Bu hücreye kod yazıp çalıştırma !"
      ]
    },
    {
      "cell_type": "markdown",
      "metadata": {
        "id": "Hqi81dcDQDWU"
      },
      "source": [
        "#### 15. mat arrayini kullanarak aşağıdaki matris çıktısını verecek kodları oluşturun"
      ]
    },
    {
      "cell_type": "code",
      "execution_count": null,
      "metadata": {
        "collapsed": true,
        "id": "DkMiLQ4IQDWU"
      },
      "outputs": [],
      "source": []
    },
    {
      "cell_type": "code",
      "execution_count": null,
      "metadata": {
        "id": "JkegNFDWQDWU",
        "outputId": "b4bbb9ad-5039-4acf-9f79-1582f9b81aff"
      },
      "outputs": [
        {
          "data": {
            "text/plain": [
              "array([[ 2],\n",
              "       [ 7],\n",
              "       [12]])"
            ]
          },
          "execution_count": 16,
          "metadata": {},
          "output_type": "execute_result"
        }
      ],
      "source": [
        "# Bu hücreye kod yazıp çalıştırma !"
      ]
    },
    {
      "cell_type": "markdown",
      "metadata": {
        "id": "t5-U_seyQDWV"
      },
      "source": [
        "#### 16. mat arrayini kullanarak aşağıdaki matris çıktısını verecek kodları oluşturun"
      ]
    },
    {
      "cell_type": "code",
      "execution_count": 23,
      "metadata": {
        "collapsed": true,
        "colab": {
          "base_uri": "https://localhost:8080/"
        },
        "id": "CVVUjpi9QDWV",
        "outputId": "0da1447e-eb31-42cc-c52a-9eca1130e519"
      },
      "outputs": [
        {
          "output_type": "execute_result",
          "data": {
            "text/plain": [
              "array([[21, 22, 23, 24, 25]])"
            ]
          },
          "metadata": {},
          "execution_count": 23
        }
      ],
      "source": [
        "mat[4:]"
      ]
    },
    {
      "cell_type": "code",
      "execution_count": null,
      "metadata": {
        "id": "2aoo7O7jQDWW",
        "outputId": "a69c6a54-4d49-4f77-bbff-e0da339f89a4"
      },
      "outputs": [
        {
          "data": {
            "text/plain": [
              "array([21, 22, 23, 24, 25])"
            ]
          },
          "execution_count": 17,
          "metadata": {},
          "output_type": "execute_result"
        }
      ],
      "source": [
        "# Bu hücreye kod yazıp çalıştırma !"
      ]
    },
    {
      "cell_type": "markdown",
      "metadata": {
        "id": "26noT_HDQDWW"
      },
      "source": [
        "#### 17. mat arrayini kullanarak aşağıdaki matris çıktısını verecek kodları oluşturun"
      ]
    },
    {
      "cell_type": "code",
      "execution_count": 24,
      "metadata": {
        "collapsed": true,
        "colab": {
          "base_uri": "https://localhost:8080/"
        },
        "id": "ffrRQTAiQDWX",
        "outputId": "898a7906-ced4-43df-e586-6edca8f7dcb4"
      },
      "outputs": [
        {
          "output_type": "execute_result",
          "data": {
            "text/plain": [
              "array([[16, 17, 18, 19, 20],\n",
              "       [21, 22, 23, 24, 25]])"
            ]
          },
          "metadata": {},
          "execution_count": 24
        }
      ],
      "source": [
        "mat[3:]"
      ]
    },
    {
      "cell_type": "code",
      "execution_count": null,
      "metadata": {
        "id": "a5fMgMiGQDWX",
        "outputId": "d7d2de13-e43e-4556-fb6d-ab2942cc2fe3"
      },
      "outputs": [
        {
          "data": {
            "text/plain": [
              "array([[16, 17, 18, 19, 20],\n",
              "       [21, 22, 23, 24, 25]])"
            ]
          },
          "execution_count": 18,
          "metadata": {},
          "output_type": "execute_result"
        }
      ],
      "source": [
        "# Bu hücreye kod yazıp çalıştırma !"
      ]
    },
    {
      "cell_type": "markdown",
      "metadata": {
        "id": "r5Y9gFlJQDWY"
      },
      "source": [
        "## NumPy Operations"
      ]
    },
    {
      "cell_type": "markdown",
      "metadata": {
        "id": "L2mZf5vhQDWY"
      },
      "source": [
        "#### 18. Mat arrayindeki bütün değerlerin toplamını bulun"
      ]
    },
    {
      "cell_type": "code",
      "execution_count": 25,
      "metadata": {
        "collapsed": true,
        "colab": {
          "base_uri": "https://localhost:8080/"
        },
        "id": "wersfbW8QDWY",
        "outputId": "d49eb463-c0d8-48db-e3bf-2bc8eb661644"
      },
      "outputs": [
        {
          "output_type": "execute_result",
          "data": {
            "text/plain": [
              "325"
            ]
          },
          "metadata": {},
          "execution_count": 25
        }
      ],
      "source": [
        "mat.sum()"
      ]
    },
    {
      "cell_type": "code",
      "execution_count": null,
      "metadata": {
        "id": "1ey49pXHQDWZ",
        "outputId": "2bbb74a1-775a-4d4f-f5f8-71beea2a2685"
      },
      "outputs": [
        {
          "data": {
            "text/plain": [
              "325"
            ]
          },
          "execution_count": 19,
          "metadata": {},
          "output_type": "execute_result"
        }
      ],
      "source": [
        "# Bu hücreye kod yazıp çalıştırma !"
      ]
    },
    {
      "cell_type": "markdown",
      "metadata": {
        "id": "HbMS4LlgQDWZ"
      },
      "source": [
        "#### 19. Mat arrayindeki değerlerin standart sapmasını bulun"
      ]
    },
    {
      "cell_type": "code",
      "execution_count": 26,
      "metadata": {
        "collapsed": true,
        "colab": {
          "base_uri": "https://localhost:8080/"
        },
        "id": "0FeoLrM4QDWa",
        "outputId": "c1bb7360-2e64-4983-f4d2-ed000e9abe55"
      },
      "outputs": [
        {
          "output_type": "execute_result",
          "data": {
            "text/plain": [
              "7.211102550927978"
            ]
          },
          "metadata": {},
          "execution_count": 26
        }
      ],
      "source": [
        "mat.std()"
      ]
    },
    {
      "cell_type": "code",
      "execution_count": null,
      "metadata": {
        "id": "TXM3VDgtQDWa",
        "outputId": "3f3be20e-4cda-469d-da85-134b4da2dd05"
      },
      "outputs": [
        {
          "data": {
            "text/plain": [
              "7.211102550927978"
            ]
          },
          "execution_count": 20,
          "metadata": {},
          "output_type": "execute_result"
        }
      ],
      "source": [
        "# Bu hücreye kod yazıp çalıştırma !"
      ]
    },
    {
      "cell_type": "markdown",
      "metadata": {
        "id": "O6czsXpaQDWa"
      },
      "source": [
        "#### 20. Mat arrayindeki her sütunun kendi içinde toplamlarını bularak yeni bir array oluşturun"
      ]
    },
    {
      "cell_type": "code",
      "execution_count": 27,
      "metadata": {
        "collapsed": true,
        "colab": {
          "base_uri": "https://localhost:8080/"
        },
        "id": "ZEbMNKDfQDWb",
        "outputId": "ceb2a0bf-7fdf-4d5f-83c6-f92278943db7"
      },
      "outputs": [
        {
          "output_type": "execute_result",
          "data": {
            "text/plain": [
              "array([55, 60, 65, 70, 75])"
            ]
          },
          "metadata": {},
          "execution_count": 27
        }
      ],
      "source": [
        "toplam = np.vstack(sum(mat)).reshape(-1)\n",
        "toplam"
      ]
    },
    {
      "cell_type": "code",
      "execution_count": null,
      "metadata": {
        "id": "Vb6SwMZuQDWb",
        "outputId": "1c4b2af1-bb37-4d95-8565-2ccb8844da73"
      },
      "outputs": [
        {
          "data": {
            "text/plain": [
              "array([55, 60, 65, 70, 75])"
            ]
          },
          "execution_count": 21,
          "metadata": {},
          "output_type": "execute_result"
        }
      ],
      "source": [
        "# Bu hücreye kod yazıp çalıştırma !"
      ]
    },
    {
      "cell_type": "markdown",
      "metadata": {
        "collapsed": true,
        "id": "qUUSZ8RhQDWb"
      },
      "source": [
        "# Tebrikler, NumPy temelleri öğrenilmiş!"
      ]
    }
  ],
  "metadata": {
    "anaconda-cloud": {},
    "kernelspec": {
      "display_name": "Python 3",
      "language": "python",
      "name": "python3"
    },
    "language_info": {
      "codemirror_mode": {
        "name": "ipython",
        "version": 3
      },
      "file_extension": ".py",
      "mimetype": "text/x-python",
      "name": "python",
      "nbconvert_exporter": "python",
      "pygments_lexer": "ipython3",
      "version": "3.10.10"
    },
    "colab": {
      "provenance": []
    }
  },
  "nbformat": 4,
  "nbformat_minor": 0
}