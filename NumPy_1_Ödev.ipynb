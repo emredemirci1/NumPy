{
  "nbformat": 4,
  "nbformat_minor": 0,
  "metadata": {
    "colab": {
      "provenance": []
    },
    "kernelspec": {
      "name": "python3",
      "display_name": "Python 3"
    },
    "language_info": {
      "name": "python"
    }
  },
  "cells": [
    {
      "cell_type": "code",
      "execution_count": 1,
      "metadata": {
        "id": "nWYn1pnxRdq7"
      },
      "outputs": [],
      "source": [
        "import numpy as np"
      ]
    },
    {
      "cell_type": "markdown",
      "source": [
        "1.SORU"
      ],
      "metadata": {
        "id": "3r_zLetjjgah"
      }
    },
    {
      "cell_type": "code",
      "source": [
        "arr3d = np.array([[ [1,2,3] ,[4,5,6] , [10,25,35] ,[40,50,60] ]])\n",
        "arr3d"
      ],
      "metadata": {
        "colab": {
          "base_uri": "https://localhost:8080/"
        },
        "id": "9Uz0pMXLRu34",
        "outputId": "904f93ae-b45e-4e25-fb0b-75a1cec835fc"
      },
      "execution_count": 2,
      "outputs": [
        {
          "output_type": "execute_result",
          "data": {
            "text/plain": [
              "array([[[ 1,  2,  3],\n",
              "        [ 4,  5,  6],\n",
              "        [10, 25, 35],\n",
              "        [40, 50, 60]]])"
            ]
          },
          "metadata": {},
          "execution_count": 2
        }
      ]
    },
    {
      "cell_type": "code",
      "source": [
        "arr3d.ndim"
      ],
      "metadata": {
        "colab": {
          "base_uri": "https://localhost:8080/"
        },
        "id": "T2V8keUdTemb",
        "outputId": "5f61c25a-2134-47d8-a1ac-175bc6f028de"
      },
      "execution_count": 3,
      "outputs": [
        {
          "output_type": "execute_result",
          "data": {
            "text/plain": [
              "3"
            ]
          },
          "metadata": {},
          "execution_count": 3
        }
      ]
    },
    {
      "cell_type": "markdown",
      "source": [
        "2.SORU"
      ],
      "metadata": {
        "id": "v8CBfWrljIhq"
      }
    },
    {
      "cell_type": "code",
      "source": [
        "np.arange(34,113,6)"
      ],
      "metadata": {
        "colab": {
          "base_uri": "https://localhost:8080/"
        },
        "id": "5HNLo634TtJV",
        "outputId": "1e19312a-af80-4413-feec-fa14766607cb"
      },
      "execution_count": 5,
      "outputs": [
        {
          "output_type": "execute_result",
          "data": {
            "text/plain": [
              "array([ 34,  40,  46,  52,  58,  64,  70,  76,  82,  88,  94, 100, 106,\n",
              "       112])"
            ]
          },
          "metadata": {},
          "execution_count": 5
        }
      ]
    },
    {
      "cell_type": "markdown",
      "source": [
        "3.SORU"
      ],
      "metadata": {
        "id": "clyrlfKjjL6o"
      }
    },
    {
      "cell_type": "code",
      "source": [
        "np.linspace(50,500,91, dtype = int)"
      ],
      "metadata": {
        "colab": {
          "base_uri": "https://localhost:8080/"
        },
        "id": "NrQ1rUVQT9Py",
        "outputId": "0cad3a03-103d-41cb-e4e2-159084eadeea"
      },
      "execution_count": 8,
      "outputs": [
        {
          "output_type": "execute_result",
          "data": {
            "text/plain": [
              "array([ 50,  55,  60,  65,  70,  75,  80,  85,  90,  95, 100, 105, 110,\n",
              "       115, 120, 125, 130, 135, 140, 145, 150, 155, 160, 165, 170, 175,\n",
              "       180, 185, 190, 195, 200, 205, 210, 215, 220, 225, 230, 235, 240,\n",
              "       245, 250, 255, 260, 265, 270, 275, 280, 285, 290, 295, 300, 305,\n",
              "       310, 315, 320, 325, 330, 335, 340, 345, 350, 355, 360, 365, 370,\n",
              "       375, 380, 385, 390, 395, 400, 405, 410, 415, 420, 425, 430, 435,\n",
              "       440, 445, 450, 455, 460, 465, 470, 475, 480, 485, 490, 495, 500])"
            ]
          },
          "metadata": {},
          "execution_count": 8
        }
      ]
    },
    {
      "cell_type": "markdown",
      "source": [
        "4.SORU"
      ],
      "metadata": {
        "id": "wX2dttMqjNeQ"
      }
    },
    {
      "cell_type": "code",
      "source": [
        "np.logspace(10**2,10*5, 8)"
      ],
      "metadata": {
        "colab": {
          "base_uri": "https://localhost:8080/"
        },
        "id": "8VBl_mepUkkJ",
        "outputId": "f8599453-730c-475f-fe89-b26fcf8110bc"
      },
      "execution_count": 11,
      "outputs": [
        {
          "output_type": "execute_result",
          "data": {
            "text/plain": [
              "array([1.00000000e+100, 7.19685673e+092, 5.17947468e+085, 3.72759372e+078,\n",
              "       2.68269580e+071, 1.93069773e+064, 1.38949549e+057, 1.00000000e+050])"
            ]
          },
          "metadata": {},
          "execution_count": 11
        }
      ]
    },
    {
      "cell_type": "markdown",
      "source": [
        "5.SORU"
      ],
      "metadata": {
        "id": "NWPb8yu8jXuz"
      }
    },
    {
      "cell_type": "code",
      "source": [
        "np.random.randint(0,9 , (3,3))"
      ],
      "metadata": {
        "colab": {
          "base_uri": "https://localhost:8080/"
        },
        "id": "EQx5Zj6CVdzP",
        "outputId": "a65e93fa-8d47-48c7-81b8-76db6bbf17e9"
      },
      "execution_count": 12,
      "outputs": [
        {
          "output_type": "execute_result",
          "data": {
            "text/plain": [
              "array([[7, 7, 8],\n",
              "       [2, 6, 1],\n",
              "       [8, 7, 6]])"
            ]
          },
          "metadata": {},
          "execution_count": 12
        }
      ]
    },
    {
      "cell_type": "markdown",
      "source": [
        "6.SORU"
      ],
      "metadata": {
        "id": "l1njkJsBjcFY"
      }
    },
    {
      "cell_type": "code",
      "source": [
        "np.zeros((6,6) , dtype = int)"
      ],
      "metadata": {
        "colab": {
          "base_uri": "https://localhost:8080/"
        },
        "id": "U4P3nChjXJfJ",
        "outputId": "418568dc-3790-4dcc-f2bb-c849fc371f6d"
      },
      "execution_count": 13,
      "outputs": [
        {
          "output_type": "execute_result",
          "data": {
            "text/plain": [
              "array([[0, 0, 0, 0, 0, 0],\n",
              "       [0, 0, 0, 0, 0, 0],\n",
              "       [0, 0, 0, 0, 0, 0],\n",
              "       [0, 0, 0, 0, 0, 0],\n",
              "       [0, 0, 0, 0, 0, 0],\n",
              "       [0, 0, 0, 0, 0, 0]])"
            ]
          },
          "metadata": {},
          "execution_count": 13
        }
      ]
    },
    {
      "cell_type": "markdown",
      "source": [
        "7.SORU"
      ],
      "metadata": {
        "id": "sMmPcY_bjmix"
      }
    },
    {
      "cell_type": "code",
      "source": [
        "np.ones((4,4) , dtype = int)"
      ],
      "metadata": {
        "colab": {
          "base_uri": "https://localhost:8080/"
        },
        "id": "L3EOv6mAXbiz",
        "outputId": "e2079f8e-3d8e-4d3c-80ac-fefa5c9fcd9a"
      },
      "execution_count": 14,
      "outputs": [
        {
          "output_type": "execute_result",
          "data": {
            "text/plain": [
              "array([[1, 1, 1, 1],\n",
              "       [1, 1, 1, 1],\n",
              "       [1, 1, 1, 1],\n",
              "       [1, 1, 1, 1]])"
            ]
          },
          "metadata": {},
          "execution_count": 14
        }
      ]
    },
    {
      "cell_type": "markdown",
      "source": [
        "8.SORU"
      ],
      "metadata": {
        "id": "eUa5G8hNjogr"
      }
    },
    {
      "cell_type": "code",
      "source": [
        "np.eye(8 , dtype = int)"
      ],
      "metadata": {
        "colab": {
          "base_uri": "https://localhost:8080/"
        },
        "id": "OEcNis8WXkHT",
        "outputId": "4ff69a0f-a27e-4d14-ccd0-f55c87a5188c"
      },
      "execution_count": 15,
      "outputs": [
        {
          "output_type": "execute_result",
          "data": {
            "text/plain": [
              "array([[1, 0, 0, 0, 0, 0, 0, 0],\n",
              "       [0, 1, 0, 0, 0, 0, 0, 0],\n",
              "       [0, 0, 1, 0, 0, 0, 0, 0],\n",
              "       [0, 0, 0, 1, 0, 0, 0, 0],\n",
              "       [0, 0, 0, 0, 1, 0, 0, 0],\n",
              "       [0, 0, 0, 0, 0, 1, 0, 0],\n",
              "       [0, 0, 0, 0, 0, 0, 1, 0],\n",
              "       [0, 0, 0, 0, 0, 0, 0, 1]])"
            ]
          },
          "metadata": {},
          "execution_count": 15
        }
      ]
    },
    {
      "cell_type": "markdown",
      "source": [
        "9.SORU"
      ],
      "metadata": {
        "id": "4yyHiHcLjrNJ"
      }
    },
    {
      "cell_type": "markdown",
      "source": [
        "10.SORU"
      ],
      "metadata": {
        "id": "YSMUaISnjsFh"
      }
    },
    {
      "cell_type": "code",
      "source": [
        "np.random.rand(6)"
      ],
      "metadata": {
        "colab": {
          "base_uri": "https://localhost:8080/"
        },
        "id": "Yu_koQfyY_ZR",
        "outputId": "a3aa3a94-0a60-4a3b-b5b0-06e7760eec6e"
      },
      "execution_count": 16,
      "outputs": [
        {
          "output_type": "execute_result",
          "data": {
            "text/plain": [
              "array([0.01109523, 0.53399792, 0.14868446, 0.10979182, 0.07578623,\n",
              "       0.93210773])"
            ]
          },
          "metadata": {},
          "execution_count": 16
        }
      ]
    },
    {
      "cell_type": "markdown",
      "source": [
        "11.SORU"
      ],
      "metadata": {
        "id": "5mCwCzHJj4dx"
      }
    },
    {
      "cell_type": "code",
      "source": [
        "np.random.randint(50,101, size=(5,2)) "
      ],
      "metadata": {
        "colab": {
          "base_uri": "https://localhost:8080/"
        },
        "id": "MX5LwDh6ZjuW",
        "outputId": "a2d6cba2-1265-4237-bc49-ae7bca9025e7"
      },
      "execution_count": 17,
      "outputs": [
        {
          "output_type": "execute_result",
          "data": {
            "text/plain": [
              "array([[ 97,  60],\n",
              "       [ 87,  58],\n",
              "       [100,  59],\n",
              "       [ 60,  99],\n",
              "       [ 92,  96]])"
            ]
          },
          "metadata": {},
          "execution_count": 17
        }
      ]
    },
    {
      "cell_type": "markdown",
      "source": [
        "12.SORU"
      ],
      "metadata": {
        "id": "As-SmCbsj6dB"
      }
    },
    {
      "cell_type": "code",
      "source": [
        "arr4 = np.random.randint(100,1000, size=(2,5,5)) \n",
        "arr4"
      ],
      "metadata": {
        "colab": {
          "base_uri": "https://localhost:8080/"
        },
        "id": "4-EErUsSZJrr",
        "outputId": "c095879f-7dd6-47da-9bec-e63f672e1d18"
      },
      "execution_count": 19,
      "outputs": [
        {
          "output_type": "execute_result",
          "data": {
            "text/plain": [
              "array([[[193, 676, 962, 731, 564],\n",
              "        [314, 820, 404, 235, 252],\n",
              "        [677, 765, 271, 673, 809],\n",
              "        [695, 139, 943, 691, 880],\n",
              "        [720, 901, 643, 667, 345]],\n",
              "\n",
              "       [[892, 537, 950, 839, 228],\n",
              "        [593, 225, 750, 886, 427],\n",
              "        [772, 597, 388, 374, 397],\n",
              "        [831, 974, 601, 626, 646],\n",
              "        [365, 830, 914, 444, 468]]])"
            ]
          },
          "metadata": {},
          "execution_count": 19
        }
      ]
    },
    {
      "cell_type": "code",
      "source": [
        "arr4.ndim"
      ],
      "metadata": {
        "colab": {
          "base_uri": "https://localhost:8080/"
        },
        "id": "kkH4VqJjfpht",
        "outputId": "be687703-0700-43ad-e22b-c3907be397cb"
      },
      "execution_count": 20,
      "outputs": [
        {
          "output_type": "execute_result",
          "data": {
            "text/plain": [
              "3"
            ]
          },
          "metadata": {},
          "execution_count": 20
        }
      ]
    },
    {
      "cell_type": "code",
      "source": [
        "arr4.shape"
      ],
      "metadata": {
        "colab": {
          "base_uri": "https://localhost:8080/"
        },
        "id": "lAM_gna_gCLT",
        "outputId": "a0f2ce89-ce4b-4eb0-a97c-176d869bf7ec"
      },
      "execution_count": 21,
      "outputs": [
        {
          "output_type": "execute_result",
          "data": {
            "text/plain": [
              "(2, 5, 5)"
            ]
          },
          "metadata": {},
          "execution_count": 21
        }
      ]
    },
    {
      "cell_type": "markdown",
      "source": [
        "13.SORU"
      ],
      "metadata": {
        "id": "Wvo6uv78hBnD"
      }
    },
    {
      "cell_type": "code",
      "source": [
        "arr5 = np.random.randint(0,100,10)\n",
        "arr5"
      ],
      "metadata": {
        "colab": {
          "base_uri": "https://localhost:8080/"
        },
        "id": "Xl75aayigGXD",
        "outputId": "c419fb2a-4d35-49f7-a31e-3c105bdc2d7c"
      },
      "execution_count": 22,
      "outputs": [
        {
          "output_type": "execute_result",
          "data": {
            "text/plain": [
              "array([27, 66, 81, 54, 19, 55, 51, 67, 53, 75])"
            ]
          },
          "metadata": {},
          "execution_count": 22
        }
      ]
    },
    {
      "cell_type": "code",
      "source": [
        "arr5.max()"
      ],
      "metadata": {
        "colab": {
          "base_uri": "https://localhost:8080/"
        },
        "id": "9HDptpVygWEc",
        "outputId": "83de57f9-ac9b-4452-b8a8-5f984ca80b61"
      },
      "execution_count": 24,
      "outputs": [
        {
          "output_type": "execute_result",
          "data": {
            "text/plain": [
              "81"
            ]
          },
          "metadata": {},
          "execution_count": 24
        }
      ]
    },
    {
      "cell_type": "code",
      "source": [
        "arr5.min()"
      ],
      "metadata": {
        "colab": {
          "base_uri": "https://localhost:8080/"
        },
        "id": "_pBfMNSngblN",
        "outputId": "ed857419-afec-45de-bfcf-28519b15c00e"
      },
      "execution_count": 25,
      "outputs": [
        {
          "output_type": "execute_result",
          "data": {
            "text/plain": [
              "19"
            ]
          },
          "metadata": {},
          "execution_count": 25
        }
      ]
    },
    {
      "cell_type": "code",
      "source": [
        "arr5.argmin()"
      ],
      "metadata": {
        "colab": {
          "base_uri": "https://localhost:8080/"
        },
        "id": "FyjHXmiUgiTk",
        "outputId": "b8da717f-4974-462f-f45c-54e9737a1aeb"
      },
      "execution_count": 26,
      "outputs": [
        {
          "output_type": "execute_result",
          "data": {
            "text/plain": [
              "4"
            ]
          },
          "metadata": {},
          "execution_count": 26
        }
      ]
    },
    {
      "cell_type": "markdown",
      "source": [
        "14.SORU"
      ],
      "metadata": {
        "id": "ZcNs8LnCj_hq"
      }
    },
    {
      "cell_type": "code",
      "source": [
        "arr6 = np.random.randint(300,501, size=(2,2,5)) \n",
        "arr6"
      ],
      "metadata": {
        "colab": {
          "base_uri": "https://localhost:8080/"
        },
        "id": "gKgyVESFgm4f",
        "outputId": "579f9ad3-5fb0-4a3a-8523-3a7a197fd075"
      },
      "execution_count": 27,
      "outputs": [
        {
          "output_type": "execute_result",
          "data": {
            "text/plain": [
              "array([[[320, 449, 333, 452, 391],\n",
              "        [380, 465, 377, 350, 390]],\n",
              "\n",
              "       [[361, 467, 422, 375, 470],\n",
              "        [347, 337, 454, 454, 482]]])"
            ]
          },
          "metadata": {},
          "execution_count": 27
        }
      ]
    },
    {
      "cell_type": "code",
      "source": [
        "arr6.max()"
      ],
      "metadata": {
        "colab": {
          "base_uri": "https://localhost:8080/"
        },
        "id": "GS3f_2tJiU-M",
        "outputId": "a990ebf9-20fb-4bb2-d581-4ab50fc69bc4"
      },
      "execution_count": 28,
      "outputs": [
        {
          "output_type": "execute_result",
          "data": {
            "text/plain": [
              "482"
            ]
          },
          "metadata": {},
          "execution_count": 28
        }
      ]
    },
    {
      "cell_type": "code",
      "source": [
        "arr6.min()"
      ],
      "metadata": {
        "colab": {
          "base_uri": "https://localhost:8080/"
        },
        "id": "6Z6BWZKiiYNx",
        "outputId": "973d6866-139b-4e14-b352-7ccd8e016931"
      },
      "execution_count": 29,
      "outputs": [
        {
          "output_type": "execute_result",
          "data": {
            "text/plain": [
              "320"
            ]
          },
          "metadata": {},
          "execution_count": 29
        }
      ]
    },
    {
      "cell_type": "code",
      "source": [
        "arr6[1,1,4]"
      ],
      "metadata": {
        "colab": {
          "base_uri": "https://localhost:8080/"
        },
        "id": "wgrqSY2riaSS",
        "outputId": "d0bb5656-51d8-4bbd-e339-d23f8d467bd0"
      },
      "execution_count": 30,
      "outputs": [
        {
          "output_type": "execute_result",
          "data": {
            "text/plain": [
              "482"
            ]
          },
          "metadata": {},
          "execution_count": 30
        }
      ]
    },
    {
      "cell_type": "code",
      "source": [
        "arr6[0,0,0]"
      ],
      "metadata": {
        "colab": {
          "base_uri": "https://localhost:8080/"
        },
        "id": "FVbQgVkDi3a0",
        "outputId": "7fc9305b-e49a-47dc-9d3b-60d240ade128"
      },
      "execution_count": 31,
      "outputs": [
        {
          "output_type": "execute_result",
          "data": {
            "text/plain": [
              "320"
            ]
          },
          "metadata": {},
          "execution_count": 31
        }
      ]
    },
    {
      "cell_type": "markdown",
      "source": [
        "15.SORU"
      ],
      "metadata": {
        "id": "bcHJujdekB3k"
      }
    },
    {
      "cell_type": "code",
      "source": [
        "arr7 = np.arange(0,51)\n",
        "arr7"
      ],
      "metadata": {
        "colab": {
          "base_uri": "https://localhost:8080/"
        },
        "id": "VqdUCWZSi7qX",
        "outputId": "37d698a7-39f3-4056-8472-e5323ab87581"
      },
      "execution_count": 33,
      "outputs": [
        {
          "output_type": "execute_result",
          "data": {
            "text/plain": [
              "array([ 0,  1,  2,  3,  4,  5,  6,  7,  8,  9, 10, 11, 12, 13, 14, 15, 16,\n",
              "       17, 18, 19, 20, 21, 22, 23, 24, 25, 26, 27, 28, 29, 30, 31, 32, 33,\n",
              "       34, 35, 36, 37, 38, 39, 40, 41, 42, 43, 44, 45, 46, 47, 48, 49, 50])"
            ]
          },
          "metadata": {},
          "execution_count": 33
        }
      ]
    },
    {
      "cell_type": "code",
      "source": [
        "arr8 = arr7[20:36] = 500\n",
        "arr8"
      ],
      "metadata": {
        "colab": {
          "base_uri": "https://localhost:8080/"
        },
        "id": "FkKi5nLwm_YZ",
        "outputId": "f5daf6aa-a7dc-4d6b-bb56-50b23dd9f9a7"
      },
      "execution_count": 35,
      "outputs": [
        {
          "output_type": "execute_result",
          "data": {
            "text/plain": [
              "500"
            ]
          },
          "metadata": {},
          "execution_count": 35
        }
      ]
    },
    {
      "cell_type": "code",
      "source": [],
      "metadata": {
        "id": "yC3x-HFFnFOJ"
      },
      "execution_count": null,
      "outputs": []
    }
  ]
}