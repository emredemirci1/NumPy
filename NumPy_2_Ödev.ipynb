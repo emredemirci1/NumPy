{
  "nbformat": 4,
  "nbformat_minor": 0,
  "metadata": {
    "colab": {
      "provenance": []
    },
    "kernelspec": {
      "name": "python3",
      "display_name": "Python 3"
    },
    "language_info": {
      "name": "python"
    }
  },
  "cells": [
    {
      "cell_type": "code",
      "source": [
        "import numpy as np"
      ],
      "metadata": {
        "id": "HeAVSU72plUG"
      },
      "execution_count": 1,
      "outputs": []
    },
    {
      "cell_type": "markdown",
      "source": [
        "1.SORU"
      ],
      "metadata": {
        "id": "Gzr7bWgXn1J3"
      }
    },
    {
      "cell_type": "code",
      "source": [
        "arr1 = np.arange(0,30)\n",
        "arr1"
      ],
      "metadata": {
        "colab": {
          "base_uri": "https://localhost:8080/"
        },
        "id": "IpZnfT5Qn2NW",
        "outputId": "93885a84-ac36-4e51-81a9-fbe74c695510"
      },
      "execution_count": 2,
      "outputs": [
        {
          "output_type": "execute_result",
          "data": {
            "text/plain": [
              "array([ 0,  1,  2,  3,  4,  5,  6,  7,  8,  9, 10, 11, 12, 13, 14, 15, 16,\n",
              "       17, 18, 19, 20, 21, 22, 23, 24, 25, 26, 27, 28, 29])"
            ]
          },
          "metadata": {},
          "execution_count": 2
        }
      ]
    },
    {
      "cell_type": "code",
      "source": [
        "arr2 = arr1.reshape(15,2)\n",
        "arr2"
      ],
      "metadata": {
        "colab": {
          "base_uri": "https://localhost:8080/"
        },
        "id": "y5PM85g_n2WF",
        "outputId": "0bcaf5fd-5ea8-4375-e2ff-35e2d01076ab"
      },
      "execution_count": 3,
      "outputs": [
        {
          "output_type": "execute_result",
          "data": {
            "text/plain": [
              "array([[ 0,  1],\n",
              "       [ 2,  3],\n",
              "       [ 4,  5],\n",
              "       [ 6,  7],\n",
              "       [ 8,  9],\n",
              "       [10, 11],\n",
              "       [12, 13],\n",
              "       [14, 15],\n",
              "       [16, 17],\n",
              "       [18, 19],\n",
              "       [20, 21],\n",
              "       [22, 23],\n",
              "       [24, 25],\n",
              "       [26, 27],\n",
              "       [28, 29]])"
            ]
          },
          "metadata": {},
          "execution_count": 3
        }
      ]
    },
    {
      "cell_type": "markdown",
      "source": [
        "2.SORU"
      ],
      "metadata": {
        "id": "7KVumoHHqL9E"
      }
    },
    {
      "cell_type": "code",
      "source": [
        "arr3 = np.arange(60)\n",
        "arr3"
      ],
      "metadata": {
        "colab": {
          "base_uri": "https://localhost:8080/"
        },
        "id": "Gf8ElHedqJ9p",
        "outputId": "8d786b39-a0b6-4c06-83d6-f3e13066de8f"
      },
      "execution_count": 4,
      "outputs": [
        {
          "output_type": "execute_result",
          "data": {
            "text/plain": [
              "array([ 0,  1,  2,  3,  4,  5,  6,  7,  8,  9, 10, 11, 12, 13, 14, 15, 16,\n",
              "       17, 18, 19, 20, 21, 22, 23, 24, 25, 26, 27, 28, 29, 30, 31, 32, 33,\n",
              "       34, 35, 36, 37, 38, 39, 40, 41, 42, 43, 44, 45, 46, 47, 48, 49, 50,\n",
              "       51, 52, 53, 54, 55, 56, 57, 58, 59])"
            ]
          },
          "metadata": {},
          "execution_count": 4
        }
      ]
    },
    {
      "cell_type": "code",
      "source": [
        "arr4 = arr3.reshape(2,5,6)\n",
        "arr4"
      ],
      "metadata": {
        "colab": {
          "base_uri": "https://localhost:8080/"
        },
        "id": "v4eCNR62qZZ7",
        "outputId": "e42f410f-6493-4209-a9e3-1935a945a3fb"
      },
      "execution_count": 6,
      "outputs": [
        {
          "output_type": "execute_result",
          "data": {
            "text/plain": [
              "array([[[ 0,  1,  2,  3,  4,  5],\n",
              "        [ 6,  7,  8,  9, 10, 11],\n",
              "        [12, 13, 14, 15, 16, 17],\n",
              "        [18, 19, 20, 21, 22, 23],\n",
              "        [24, 25, 26, 27, 28, 29]],\n",
              "\n",
              "       [[30, 31, 32, 33, 34, 35],\n",
              "        [36, 37, 38, 39, 40, 41],\n",
              "        [42, 43, 44, 45, 46, 47],\n",
              "        [48, 49, 50, 51, 52, 53],\n",
              "        [54, 55, 56, 57, 58, 59]]])"
            ]
          },
          "metadata": {},
          "execution_count": 6
        }
      ]
    },
    {
      "cell_type": "code",
      "source": [
        "arr4.ndim"
      ],
      "metadata": {
        "colab": {
          "base_uri": "https://localhost:8080/"
        },
        "id": "jr77tfzkq1h_",
        "outputId": "ce1ba549-7ab2-4f0f-a30c-c3ba15589b9d"
      },
      "execution_count": 7,
      "outputs": [
        {
          "output_type": "execute_result",
          "data": {
            "text/plain": [
              "3"
            ]
          },
          "metadata": {},
          "execution_count": 7
        }
      ]
    },
    {
      "cell_type": "code",
      "source": [
        "arr4.shape"
      ],
      "metadata": {
        "colab": {
          "base_uri": "https://localhost:8080/"
        },
        "id": "Zud5rsxNrJB-",
        "outputId": "06029ee4-7238-4fcc-f291-ae17ac498827"
      },
      "execution_count": 9,
      "outputs": [
        {
          "output_type": "execute_result",
          "data": {
            "text/plain": [
              "(2, 5, 6)"
            ]
          },
          "metadata": {},
          "execution_count": 9
        }
      ]
    },
    {
      "cell_type": "markdown",
      "source": [
        "3.SORU"
      ],
      "metadata": {
        "id": "SFtxqSfarOeB"
      }
    },
    {
      "cell_type": "code",
      "source": [
        "arr5 = np.random.randint(0,10, size= (4,3))\n",
        "arr5"
      ],
      "metadata": {
        "colab": {
          "base_uri": "https://localhost:8080/"
        },
        "id": "ezVO7jEArLil",
        "outputId": "b8df0bf1-f26e-4105-ee82-ae5b9ef26697"
      },
      "execution_count": 10,
      "outputs": [
        {
          "output_type": "execute_result",
          "data": {
            "text/plain": [
              "array([[9, 9, 9],\n",
              "       [9, 8, 3],\n",
              "       [0, 9, 7],\n",
              "       [1, 6, 0]])"
            ]
          },
          "metadata": {},
          "execution_count": 10
        }
      ]
    },
    {
      "cell_type": "code",
      "source": [
        "arr6 = arr5.reshape(-1)\n",
        "arr6"
      ],
      "metadata": {
        "colab": {
          "base_uri": "https://localhost:8080/"
        },
        "id": "LoR_4xWIswus",
        "outputId": "fd566ce5-0329-4d55-f874-3ec93969209a"
      },
      "execution_count": 15,
      "outputs": [
        {
          "output_type": "execute_result",
          "data": {
            "text/plain": [
              "array([9, 9, 9, 9, 8, 3, 0, 9, 7, 1, 6, 0])"
            ]
          },
          "metadata": {},
          "execution_count": 15
        }
      ]
    },
    {
      "cell_type": "code",
      "source": [
        "arr6.ndim"
      ],
      "metadata": {
        "colab": {
          "base_uri": "https://localhost:8080/"
        },
        "id": "gOxr7CnTs2IV",
        "outputId": "ccb8ebf2-e019-4549-a2fe-3e96577dc4ec"
      },
      "execution_count": 16,
      "outputs": [
        {
          "output_type": "execute_result",
          "data": {
            "text/plain": [
              "1"
            ]
          },
          "metadata": {},
          "execution_count": 16
        }
      ]
    },
    {
      "cell_type": "code",
      "source": [
        "arr6.shape"
      ],
      "metadata": {
        "colab": {
          "base_uri": "https://localhost:8080/"
        },
        "id": "eI1xhcxls6sy",
        "outputId": "274fe310-37c9-4257-a218-0b443c97a5cd"
      },
      "execution_count": 17,
      "outputs": [
        {
          "output_type": "execute_result",
          "data": {
            "text/plain": [
              "(12,)"
            ]
          },
          "metadata": {},
          "execution_count": 17
        }
      ]
    },
    {
      "cell_type": "markdown",
      "source": [
        "4.SORU"
      ],
      "metadata": {
        "id": "5giGGPmgs-1Z"
      }
    },
    {
      "cell_type": "code",
      "source": [
        "arr7 = np.arange(20).reshape(4,5)\n",
        "arr7"
      ],
      "metadata": {
        "colab": {
          "base_uri": "https://localhost:8080/"
        },
        "id": "PU02Bqk8s8Ug",
        "outputId": "755c6d3a-55c2-412f-ed8e-0bcc66b88531"
      },
      "execution_count": 18,
      "outputs": [
        {
          "output_type": "execute_result",
          "data": {
            "text/plain": [
              "array([[ 0,  1,  2,  3,  4],\n",
              "       [ 5,  6,  7,  8,  9],\n",
              "       [10, 11, 12, 13, 14],\n",
              "       [15, 16, 17, 18, 19]])"
            ]
          },
          "metadata": {},
          "execution_count": 18
        }
      ]
    },
    {
      "cell_type": "code",
      "source": [
        "for x in arr7:\n",
        "  print(x)"
      ],
      "metadata": {
        "colab": {
          "base_uri": "https://localhost:8080/"
        },
        "id": "yMHfl1DZuN8r",
        "outputId": "6fce3380-8976-4f69-e060-d2afc558c7e3"
      },
      "execution_count": 19,
      "outputs": [
        {
          "output_type": "stream",
          "name": "stdout",
          "text": [
            "[0 1 2 3 4]\n",
            "[5 6 7 8 9]\n",
            "[10 11 12 13 14]\n",
            "[15 16 17 18 19]\n"
          ]
        }
      ]
    },
    {
      "cell_type": "code",
      "source": [
        "for x in np.nditer(arr7):\n",
        "  print(x)"
      ],
      "metadata": {
        "colab": {
          "base_uri": "https://localhost:8080/"
        },
        "id": "BS6Kb1l1uT4H",
        "outputId": "0bb3dbc1-a3e9-4023-d231-fbd4eae5605f"
      },
      "execution_count": 20,
      "outputs": [
        {
          "output_type": "stream",
          "name": "stdout",
          "text": [
            "0\n",
            "1\n",
            "2\n",
            "3\n",
            "4\n",
            "5\n",
            "6\n",
            "7\n",
            "8\n",
            "9\n",
            "10\n",
            "11\n",
            "12\n",
            "13\n",
            "14\n",
            "15\n",
            "16\n",
            "17\n",
            "18\n",
            "19\n"
          ]
        }
      ]
    },
    {
      "cell_type": "markdown",
      "source": [
        "5.SORU"
      ],
      "metadata": {
        "id": "LqpUO1HKumFZ"
      }
    },
    {
      "cell_type": "code",
      "source": [
        "arr8 = np.array([5,10,15,20,25,30])\n",
        "arr9 = np.array([1,2,3,4,5,6])"
      ],
      "metadata": {
        "id": "aBpMF4DKukRH"
      },
      "execution_count": 26,
      "outputs": []
    },
    {
      "cell_type": "code",
      "source": [
        "arr8 + arr9"
      ],
      "metadata": {
        "colab": {
          "base_uri": "https://localhost:8080/"
        },
        "id": "ySdBjff0u7Mi",
        "outputId": "99c0ea8e-960e-4e04-b74a-a721bf0f302c"
      },
      "execution_count": 27,
      "outputs": [
        {
          "output_type": "execute_result",
          "data": {
            "text/plain": [
              "array([ 6, 12, 18, 24, 30, 36])"
            ]
          },
          "metadata": {},
          "execution_count": 27
        }
      ]
    },
    {
      "cell_type": "code",
      "source": [
        "arr8 - arr9"
      ],
      "metadata": {
        "colab": {
          "base_uri": "https://localhost:8080/"
        },
        "id": "i2ATzcANvewt",
        "outputId": "e3a8ba8b-edd7-458e-daa0-c9186f8ec006"
      },
      "execution_count": 28,
      "outputs": [
        {
          "output_type": "execute_result",
          "data": {
            "text/plain": [
              "array([ 4,  8, 12, 16, 20, 24])"
            ]
          },
          "metadata": {},
          "execution_count": 28
        }
      ]
    },
    {
      "cell_type": "code",
      "source": [
        "arr8 * arr9"
      ],
      "metadata": {
        "colab": {
          "base_uri": "https://localhost:8080/"
        },
        "id": "uroeapr6wGmr",
        "outputId": "3fcb6962-d1c2-441d-b1e8-e1f70e533a84"
      },
      "execution_count": 29,
      "outputs": [
        {
          "output_type": "execute_result",
          "data": {
            "text/plain": [
              "array([  5,  20,  45,  80, 125, 180])"
            ]
          },
          "metadata": {},
          "execution_count": 29
        }
      ]
    },
    {
      "cell_type": "code",
      "source": [
        "arr8 // arr9"
      ],
      "metadata": {
        "colab": {
          "base_uri": "https://localhost:8080/"
        },
        "id": "bjRUbgsZwSOI",
        "outputId": "15419e96-aee2-4fb0-fb7d-07b3a390b277"
      },
      "execution_count": 31,
      "outputs": [
        {
          "output_type": "execute_result",
          "data": {
            "text/plain": [
              "array([5, 5, 5, 5, 5, 5])"
            ]
          },
          "metadata": {},
          "execution_count": 31
        }
      ]
    },
    {
      "cell_type": "markdown",
      "source": [
        "6.SORU"
      ],
      "metadata": {
        "id": "6amc6RdSwhAQ"
      }
    },
    {
      "cell_type": "code",
      "source": [
        "arr10 = np.random.randint(0,101,10)\n",
        "arr10"
      ],
      "metadata": {
        "colab": {
          "base_uri": "https://localhost:8080/"
        },
        "id": "VJRYTJfGwW5A",
        "outputId": "c807c265-4b22-4738-dab9-7f7d7ba475d0"
      },
      "execution_count": 34,
      "outputs": [
        {
          "output_type": "execute_result",
          "data": {
            "text/plain": [
              "array([20, 87, 78, 68, 49, 93, 78, 25,  4, 28])"
            ]
          },
          "metadata": {},
          "execution_count": 34
        }
      ]
    },
    {
      "cell_type": "code",
      "source": [
        "arr10.sum()"
      ],
      "metadata": {
        "colab": {
          "base_uri": "https://localhost:8080/"
        },
        "id": "eakCLdJiwzTc",
        "outputId": "5d344701-9da2-4523-d829-64968129b0ea"
      },
      "execution_count": 35,
      "outputs": [
        {
          "output_type": "execute_result",
          "data": {
            "text/plain": [
              "530"
            ]
          },
          "metadata": {},
          "execution_count": 35
        }
      ]
    },
    {
      "cell_type": "code",
      "source": [
        "arr10.mean()"
      ],
      "metadata": {
        "colab": {
          "base_uri": "https://localhost:8080/"
        },
        "id": "1tE_qTRUxKsB",
        "outputId": "f6fe3889-f2ac-4c9a-98cf-02e5edc0a8c4"
      },
      "execution_count": 36,
      "outputs": [
        {
          "output_type": "execute_result",
          "data": {
            "text/plain": [
              "53.0"
            ]
          },
          "metadata": {},
          "execution_count": 36
        }
      ]
    },
    {
      "cell_type": "code",
      "source": [
        "arr10.var()"
      ],
      "metadata": {
        "colab": {
          "base_uri": "https://localhost:8080/"
        },
        "id": "eHpjRPUexOOc",
        "outputId": "080a8bf2-5fa9-4f7a-9577-985361f50c18"
      },
      "execution_count": 37,
      "outputs": [
        {
          "output_type": "execute_result",
          "data": {
            "text/plain": [
              "914.6"
            ]
          },
          "metadata": {},
          "execution_count": 37
        }
      ]
    },
    {
      "cell_type": "code",
      "source": [
        "arr10.std()"
      ],
      "metadata": {
        "colab": {
          "base_uri": "https://localhost:8080/"
        },
        "id": "ga2oZxX6xQVe",
        "outputId": "57b89e44-1def-40dc-c7bf-d80792fdd3be"
      },
      "execution_count": 38,
      "outputs": [
        {
          "output_type": "execute_result",
          "data": {
            "text/plain": [
              "30.242354405700624"
            ]
          },
          "metadata": {},
          "execution_count": 38
        }
      ]
    },
    {
      "cell_type": "markdown",
      "source": [
        "7.SORU"
      ],
      "metadata": {
        "id": "BOMsOfvsyAVY"
      }
    },
    {
      "cell_type": "code",
      "source": [
        "arr11 = np.arange(0,20)\n",
        "arr11"
      ],
      "metadata": {
        "colab": {
          "base_uri": "https://localhost:8080/"
        },
        "id": "gJejhsySxTho",
        "outputId": "78a00383-c7c1-4f92-99fd-bd73124ef6c4"
      },
      "execution_count": 40,
      "outputs": [
        {
          "output_type": "execute_result",
          "data": {
            "text/plain": [
              "array([ 0,  1,  2,  3,  4,  5,  6,  7,  8,  9, 10, 11, 12, 13, 14, 15, 16,\n",
              "       17, 18, 19])"
            ]
          },
          "metadata": {},
          "execution_count": 40
        }
      ]
    },
    {
      "cell_type": "code",
      "source": [
        "arr12 = np.arange(500,531)\n",
        "arr12"
      ],
      "metadata": {
        "colab": {
          "base_uri": "https://localhost:8080/"
        },
        "id": "8x6uIoKTxsyA",
        "outputId": "886eed4e-d745-4d7d-8b39-31b9363f8714"
      },
      "execution_count": 41,
      "outputs": [
        {
          "output_type": "execute_result",
          "data": {
            "text/plain": [
              "array([500, 501, 502, 503, 504, 505, 506, 507, 508, 509, 510, 511, 512,\n",
              "       513, 514, 515, 516, 517, 518, 519, 520, 521, 522, 523, 524, 525,\n",
              "       526, 527, 528, 529, 530])"
            ]
          },
          "metadata": {},
          "execution_count": 41
        }
      ]
    },
    {
      "cell_type": "code",
      "source": [
        "np.concatenate([arr11,arr12])"
      ],
      "metadata": {
        "colab": {
          "base_uri": "https://localhost:8080/"
        },
        "id": "eyaP_--4x0Dv",
        "outputId": "4a9dec3e-96a5-4454-dca2-380b44b30f70"
      },
      "execution_count": 42,
      "outputs": [
        {
          "output_type": "execute_result",
          "data": {
            "text/plain": [
              "array([  0,   1,   2,   3,   4,   5,   6,   7,   8,   9,  10,  11,  12,\n",
              "        13,  14,  15,  16,  17,  18,  19, 500, 501, 502, 503, 504, 505,\n",
              "       506, 507, 508, 509, 510, 511, 512, 513, 514, 515, 516, 517, 518,\n",
              "       519, 520, 521, 522, 523, 524, 525, 526, 527, 528, 529, 530])"
            ]
          },
          "metadata": {},
          "execution_count": 42
        }
      ]
    },
    {
      "cell_type": "markdown",
      "source": [
        "8.SORU"
      ],
      "metadata": {
        "id": "B3jIBRKTyU1r"
      }
    },
    {
      "cell_type": "code",
      "source": [
        "arr13 = np.arange(15,51)\n",
        "arr13"
      ],
      "metadata": {
        "colab": {
          "base_uri": "https://localhost:8080/"
        },
        "id": "4FQpCHYMyKX6",
        "outputId": "bf83a5e0-1f02-447e-f57b-0c245bbe3add"
      },
      "execution_count": 44,
      "outputs": [
        {
          "output_type": "execute_result",
          "data": {
            "text/plain": [
              "array([15, 16, 17, 18, 19, 20, 21, 22, 23, 24, 25, 26, 27, 28, 29, 30, 31,\n",
              "       32, 33, 34, 35, 36, 37, 38, 39, 40, 41, 42, 43, 44, 45, 46, 47, 48,\n",
              "       49, 50])"
            ]
          },
          "metadata": {},
          "execution_count": 44
        }
      ]
    },
    {
      "cell_type": "code",
      "source": [
        "arr14 = np.arange(10,101)\n",
        "arr14"
      ],
      "metadata": {
        "colab": {
          "base_uri": "https://localhost:8080/"
        },
        "id": "N94TXE0wz7Wu",
        "outputId": "3b978882-b52f-4fc2-a9f3-47a670af375b"
      },
      "execution_count": 45,
      "outputs": [
        {
          "output_type": "execute_result",
          "data": {
            "text/plain": [
              "array([ 10,  11,  12,  13,  14,  15,  16,  17,  18,  19,  20,  21,  22,\n",
              "        23,  24,  25,  26,  27,  28,  29,  30,  31,  32,  33,  34,  35,\n",
              "        36,  37,  38,  39,  40,  41,  42,  43,  44,  45,  46,  47,  48,\n",
              "        49,  50,  51,  52,  53,  54,  55,  56,  57,  58,  59,  60,  61,\n",
              "        62,  63,  64,  65,  66,  67,  68,  69,  70,  71,  72,  73,  74,\n",
              "        75,  76,  77,  78,  79,  80,  81,  82,  83,  84,  85,  86,  87,\n",
              "        88,  89,  90,  91,  92,  93,  94,  95,  96,  97,  98,  99, 100])"
            ]
          },
          "metadata": {},
          "execution_count": 45
        }
      ]
    },
    {
      "cell_type": "code",
      "source": [
        "arr15 = np.concatenate([arr13,arr14] , axis = 0 )\n",
        "arr15"
      ],
      "metadata": {
        "colab": {
          "base_uri": "https://localhost:8080/"
        },
        "id": "vADU1RPv0D4A",
        "outputId": "499b285a-d74a-4b97-f7a1-212d4158a8a4"
      },
      "execution_count": 46,
      "outputs": [
        {
          "output_type": "execute_result",
          "data": {
            "text/plain": [
              "array([ 15,  16,  17,  18,  19,  20,  21,  22,  23,  24,  25,  26,  27,\n",
              "        28,  29,  30,  31,  32,  33,  34,  35,  36,  37,  38,  39,  40,\n",
              "        41,  42,  43,  44,  45,  46,  47,  48,  49,  50,  10,  11,  12,\n",
              "        13,  14,  15,  16,  17,  18,  19,  20,  21,  22,  23,  24,  25,\n",
              "        26,  27,  28,  29,  30,  31,  32,  33,  34,  35,  36,  37,  38,\n",
              "        39,  40,  41,  42,  43,  44,  45,  46,  47,  48,  49,  50,  51,\n",
              "        52,  53,  54,  55,  56,  57,  58,  59,  60,  61,  62,  63,  64,\n",
              "        65,  66,  67,  68,  69,  70,  71,  72,  73,  74,  75,  76,  77,\n",
              "        78,  79,  80,  81,  82,  83,  84,  85,  86,  87,  88,  89,  90,\n",
              "        91,  92,  93,  94,  95,  96,  97,  98,  99, 100])"
            ]
          },
          "metadata": {},
          "execution_count": 46
        }
      ]
    },
    {
      "cell_type": "code",
      "source": [
        "arr15[25:51] = 888\n",
        "arr15"
      ],
      "metadata": {
        "colab": {
          "base_uri": "https://localhost:8080/"
        },
        "id": "TWiVc6-W0VWO",
        "outputId": "86284dcd-3df6-40ea-885f-5564f63e2b7c"
      },
      "execution_count": 47,
      "outputs": [
        {
          "output_type": "execute_result",
          "data": {
            "text/plain": [
              "array([ 15,  16,  17,  18,  19,  20,  21,  22,  23,  24,  25,  26,  27,\n",
              "        28,  29,  30,  31,  32,  33,  34,  35,  36,  37,  38,  39, 888,\n",
              "       888, 888, 888, 888, 888, 888, 888, 888, 888, 888, 888, 888, 888,\n",
              "       888, 888, 888, 888, 888, 888, 888, 888, 888, 888, 888, 888,  25,\n",
              "        26,  27,  28,  29,  30,  31,  32,  33,  34,  35,  36,  37,  38,\n",
              "        39,  40,  41,  42,  43,  44,  45,  46,  47,  48,  49,  50,  51,\n",
              "        52,  53,  54,  55,  56,  57,  58,  59,  60,  61,  62,  63,  64,\n",
              "        65,  66,  67,  68,  69,  70,  71,  72,  73,  74,  75,  76,  77,\n",
              "        78,  79,  80,  81,  82,  83,  84,  85,  86,  87,  88,  89,  90,\n",
              "        91,  92,  93,  94,  95,  96,  97,  98,  99, 100])"
            ]
          },
          "metadata": {},
          "execution_count": 47
        }
      ]
    },
    {
      "cell_type": "markdown",
      "source": [
        "9.SORU\n"
      ],
      "metadata": {
        "id": "AMWPgQuP1TrF"
      }
    },
    {
      "cell_type": "code",
      "source": [
        "arr16 = np.random.randint(0,40, size=(8,5))\n",
        "arr16"
      ],
      "metadata": {
        "colab": {
          "base_uri": "https://localhost:8080/"
        },
        "id": "iXZQ8XmJ1RR8",
        "outputId": "636a43f2-5d6b-494a-f456-cd819e3a9cd6"
      },
      "execution_count": 48,
      "outputs": [
        {
          "output_type": "execute_result",
          "data": {
            "text/plain": [
              "array([[ 9, 34, 38, 12, 35],\n",
              "       [27, 31,  1,  6, 28],\n",
              "       [17, 39, 27, 38,  3],\n",
              "       [ 3, 30, 16, 20, 16],\n",
              "       [16, 36, 39, 32, 37],\n",
              "       [29,  8, 16,  0, 15],\n",
              "       [30,  6,  6, 10, 16],\n",
              "       [30, 30, 32, 30,  7]])"
            ]
          },
          "metadata": {},
          "execution_count": 48
        }
      ]
    },
    {
      "cell_type": "code",
      "source": [
        "arr17 = np.random.randint(320,360, size=(8,5))\n",
        "arr17"
      ],
      "metadata": {
        "colab": {
          "base_uri": "https://localhost:8080/"
        },
        "id": "U_lRJ4FB2MWn",
        "outputId": "a2b292ab-1d56-4584-f01a-1ca2e2b885c6"
      },
      "execution_count": 49,
      "outputs": [
        {
          "output_type": "execute_result",
          "data": {
            "text/plain": [
              "array([[326, 348, 323, 354, 330],\n",
              "       [327, 326, 326, 329, 347],\n",
              "       [334, 349, 320, 346, 345],\n",
              "       [321, 357, 357, 340, 356],\n",
              "       [348, 325, 329, 338, 352],\n",
              "       [348, 343, 354, 332, 345],\n",
              "       [336, 324, 340, 345, 341],\n",
              "       [348, 342, 335, 320, 329]])"
            ]
          },
          "metadata": {},
          "execution_count": 49
        }
      ]
    },
    {
      "cell_type": "code",
      "source": [
        "np.concatenate([arr16,arr17] , axis = 0)"
      ],
      "metadata": {
        "colab": {
          "base_uri": "https://localhost:8080/"
        },
        "id": "oRjqkn_F2Nna",
        "outputId": "8112a67e-5846-4c6d-b2c8-616fa3531e04"
      },
      "execution_count": 50,
      "outputs": [
        {
          "output_type": "execute_result",
          "data": {
            "text/plain": [
              "array([[  9,  34,  38,  12,  35],\n",
              "       [ 27,  31,   1,   6,  28],\n",
              "       [ 17,  39,  27,  38,   3],\n",
              "       [  3,  30,  16,  20,  16],\n",
              "       [ 16,  36,  39,  32,  37],\n",
              "       [ 29,   8,  16,   0,  15],\n",
              "       [ 30,   6,   6,  10,  16],\n",
              "       [ 30,  30,  32,  30,   7],\n",
              "       [326, 348, 323, 354, 330],\n",
              "       [327, 326, 326, 329, 347],\n",
              "       [334, 349, 320, 346, 345],\n",
              "       [321, 357, 357, 340, 356],\n",
              "       [348, 325, 329, 338, 352],\n",
              "       [348, 343, 354, 332, 345],\n",
              "       [336, 324, 340, 345, 341],\n",
              "       [348, 342, 335, 320, 329]])"
            ]
          },
          "metadata": {},
          "execution_count": 50
        }
      ]
    },
    {
      "cell_type": "code",
      "source": [
        "np.concatenate([arr16,arr17] , axis = 1)"
      ],
      "metadata": {
        "colab": {
          "base_uri": "https://localhost:8080/"
        },
        "id": "H-AQ_I7J2VNk",
        "outputId": "3a261387-ebed-468d-d68d-0d89981614aa"
      },
      "execution_count": 51,
      "outputs": [
        {
          "output_type": "execute_result",
          "data": {
            "text/plain": [
              "array([[  9,  34,  38,  12,  35, 326, 348, 323, 354, 330],\n",
              "       [ 27,  31,   1,   6,  28, 327, 326, 326, 329, 347],\n",
              "       [ 17,  39,  27,  38,   3, 334, 349, 320, 346, 345],\n",
              "       [  3,  30,  16,  20,  16, 321, 357, 357, 340, 356],\n",
              "       [ 16,  36,  39,  32,  37, 348, 325, 329, 338, 352],\n",
              "       [ 29,   8,  16,   0,  15, 348, 343, 354, 332, 345],\n",
              "       [ 30,   6,   6,  10,  16, 336, 324, 340, 345, 341],\n",
              "       [ 30,  30,  32,  30,   7, 348, 342, 335, 320, 329]])"
            ]
          },
          "metadata": {},
          "execution_count": 51
        }
      ]
    },
    {
      "cell_type": "markdown",
      "source": [
        "10.SORU"
      ],
      "metadata": {
        "id": "gNPyn0WH2a0H"
      }
    },
    {
      "cell_type": "code",
      "source": [
        "np.concatenate([arr16,arr17] , axis = 2)"
      ],
      "metadata": {
        "colab": {
          "base_uri": "https://localhost:8080/",
          "height": 217
        },
        "id": "QKEslcUX2X-Q",
        "outputId": "9a89c7f6-5278-4042-93e7-bb6c2dce7133"
      },
      "execution_count": 52,
      "outputs": [
        {
          "output_type": "error",
          "ename": "AxisError",
          "evalue": "ignored",
          "traceback": [
            "\u001b[0;31m---------------------------------------------------------------------------\u001b[0m",
            "\u001b[0;31mAxisError\u001b[0m                                 Traceback (most recent call last)",
            "\u001b[0;32m<ipython-input-52-7cf2fb9e16cd>\u001b[0m in \u001b[0;36m<module>\u001b[0;34m\u001b[0m\n\u001b[0;32m----> 1\u001b[0;31m \u001b[0mnp\u001b[0m\u001b[0;34m.\u001b[0m\u001b[0mconcatenate\u001b[0m\u001b[0;34m(\u001b[0m\u001b[0;34m[\u001b[0m\u001b[0marr16\u001b[0m\u001b[0;34m,\u001b[0m\u001b[0marr17\u001b[0m\u001b[0;34m]\u001b[0m \u001b[0;34m,\u001b[0m \u001b[0maxis\u001b[0m \u001b[0;34m=\u001b[0m \u001b[0;36m2\u001b[0m\u001b[0;34m)\u001b[0m\u001b[0;34m\u001b[0m\u001b[0;34m\u001b[0m\u001b[0m\n\u001b[0m",
            "\u001b[0;32m/usr/local/lib/python3.9/dist-packages/numpy/core/overrides.py\u001b[0m in \u001b[0;36mconcatenate\u001b[0;34m(*args, **kwargs)\u001b[0m\n",
            "\u001b[0;31mAxisError\u001b[0m: axis 2 is out of bounds for array of dimension 2"
          ]
        }
      ]
    },
    {
      "cell_type": "code",
      "source": [
        "np.stack([arr16,arr17] , axis = 2)"
      ],
      "metadata": {
        "colab": {
          "base_uri": "https://localhost:8080/"
        },
        "id": "LLKwKHzO2rg6",
        "outputId": "95e7bc79-9b21-4565-8bde-c74cb2f1c5e4"
      },
      "execution_count": 53,
      "outputs": [
        {
          "output_type": "execute_result",
          "data": {
            "text/plain": [
              "array([[[  9, 326],\n",
              "        [ 34, 348],\n",
              "        [ 38, 323],\n",
              "        [ 12, 354],\n",
              "        [ 35, 330]],\n",
              "\n",
              "       [[ 27, 327],\n",
              "        [ 31, 326],\n",
              "        [  1, 326],\n",
              "        [  6, 329],\n",
              "        [ 28, 347]],\n",
              "\n",
              "       [[ 17, 334],\n",
              "        [ 39, 349],\n",
              "        [ 27, 320],\n",
              "        [ 38, 346],\n",
              "        [  3, 345]],\n",
              "\n",
              "       [[  3, 321],\n",
              "        [ 30, 357],\n",
              "        [ 16, 357],\n",
              "        [ 20, 340],\n",
              "        [ 16, 356]],\n",
              "\n",
              "       [[ 16, 348],\n",
              "        [ 36, 325],\n",
              "        [ 39, 329],\n",
              "        [ 32, 338],\n",
              "        [ 37, 352]],\n",
              "\n",
              "       [[ 29, 348],\n",
              "        [  8, 343],\n",
              "        [ 16, 354],\n",
              "        [  0, 332],\n",
              "        [ 15, 345]],\n",
              "\n",
              "       [[ 30, 336],\n",
              "        [  6, 324],\n",
              "        [  6, 340],\n",
              "        [ 10, 345],\n",
              "        [ 16, 341]],\n",
              "\n",
              "       [[ 30, 348],\n",
              "        [ 30, 342],\n",
              "        [ 32, 335],\n",
              "        [ 30, 320],\n",
              "        [  7, 329]]])"
            ]
          },
          "metadata": {},
          "execution_count": 53
        }
      ]
    },
    {
      "cell_type": "markdown",
      "source": [
        "11.SORU"
      ],
      "metadata": {
        "id": "agIp8evt3eOw"
      }
    },
    {
      "cell_type": "code",
      "source": [
        "arr18 = np.array([1, 20, 25, 4, 4, 5, 4, 4, 1, 6, 9, 12, 1, 5])\n",
        "arr18"
      ],
      "metadata": {
        "colab": {
          "base_uri": "https://localhost:8080/"
        },
        "id": "jvQl9bAJ26qV",
        "outputId": "68b10690-0750-4e1f-a0f4-4811b7038323"
      },
      "execution_count": 55,
      "outputs": [
        {
          "output_type": "execute_result",
          "data": {
            "text/plain": [
              "array([ 1, 20, 25,  4,  4,  5,  4,  4,  1,  6,  9, 12,  1,  5])"
            ]
          },
          "metadata": {},
          "execution_count": 55
        }
      ]
    },
    {
      "cell_type": "code",
      "source": [
        "np.where(arr18 == 5)"
      ],
      "metadata": {
        "colab": {
          "base_uri": "https://localhost:8080/"
        },
        "id": "3iUOAEAJ3Ker",
        "outputId": "f9631829-bf24-4786-9a32-4385ecff289b"
      },
      "execution_count": 56,
      "outputs": [
        {
          "output_type": "execute_result",
          "data": {
            "text/plain": [
              "(array([ 5, 13]),)"
            ]
          },
          "metadata": {},
          "execution_count": 56
        }
      ]
    },
    {
      "cell_type": "markdown",
      "source": [
        "12.SORU"
      ],
      "metadata": {
        "id": "FwIjN9_r3hZD"
      }
    },
    {
      "cell_type": "code",
      "source": [
        "np.where(arr18%2 == 0 )"
      ],
      "metadata": {
        "colab": {
          "base_uri": "https://localhost:8080/"
        },
        "id": "Hi1pOld23XJk",
        "outputId": "edd9ac95-9e7f-415a-b0e6-8097a89a3978"
      },
      "execution_count": 57,
      "outputs": [
        {
          "output_type": "execute_result",
          "data": {
            "text/plain": [
              "(array([ 1,  3,  4,  6,  7,  9, 11]),)"
            ]
          },
          "metadata": {},
          "execution_count": 57
        }
      ]
    },
    {
      "cell_type": "markdown",
      "source": [
        "13.SORU"
      ],
      "metadata": {
        "id": "5MMR5M5V-jjU"
      }
    },
    {
      "cell_type": "code",
      "source": [
        "np.where(arr18>4 )"
      ],
      "metadata": {
        "colab": {
          "base_uri": "https://localhost:8080/"
        },
        "id": "osfnQfwy-itp",
        "outputId": "9d5c0fb5-e248-464f-b98a-c12641e13381"
      },
      "execution_count": 58,
      "outputs": [
        {
          "output_type": "execute_result",
          "data": {
            "text/plain": [
              "(array([ 1,  2,  5,  9, 10, 11, 13]),)"
            ]
          },
          "metadata": {},
          "execution_count": 58
        }
      ]
    },
    {
      "cell_type": "markdown",
      "source": [
        "14.SORU"
      ],
      "metadata": {
        "id": "JGxdfdpz-8DI"
      }
    },
    {
      "cell_type": "code",
      "source": [
        "np.where(arr18%5 == 0 )"
      ],
      "metadata": {
        "colab": {
          "base_uri": "https://localhost:8080/"
        },
        "id": "z-arUw5u-vI9",
        "outputId": "d6c20579-69c0-473b-8c05-1a2bd06555ab"
      },
      "execution_count": 59,
      "outputs": [
        {
          "output_type": "execute_result",
          "data": {
            "text/plain": [
              "(array([ 1,  2,  5, 13]),)"
            ]
          },
          "metadata": {},
          "execution_count": 59
        }
      ]
    },
    {
      "cell_type": "markdown",
      "source": [
        "15.SORU"
      ],
      "metadata": {
        "id": "KmGVX2nc--iy"
      }
    },
    {
      "cell_type": "code",
      "source": [
        "np.random.randint(low = 85 , high = 101 , size = 1)"
      ],
      "metadata": {
        "colab": {
          "base_uri": "https://localhost:8080/"
        },
        "id": "nNTAAyte-9yB",
        "outputId": "f15c4aa4-98b9-4580-da88-bcd803fba894"
      },
      "execution_count": 60,
      "outputs": [
        {
          "output_type": "execute_result",
          "data": {
            "text/plain": [
              "array([91])"
            ]
          },
          "metadata": {},
          "execution_count": 60
        }
      ]
    },
    {
      "cell_type": "markdown",
      "source": [
        "16.SORU"
      ],
      "metadata": {
        "id": "nOQVhIBD_xNi"
      }
    },
    {
      "cell_type": "code",
      "source": [
        "np.random.randint(low = 10 , high = 100 , size = (3,3))"
      ],
      "metadata": {
        "colab": {
          "base_uri": "https://localhost:8080/"
        },
        "id": "j5S_E2l9_elz",
        "outputId": "752ed139-8e3e-4e80-9f36-8535ec7f7f1e"
      },
      "execution_count": 61,
      "outputs": [
        {
          "output_type": "execute_result",
          "data": {
            "text/plain": [
              "array([[25, 14, 11],\n",
              "       [67, 56, 24],\n",
              "       [31, 25, 44]])"
            ]
          },
          "metadata": {},
          "execution_count": 61
        }
      ]
    },
    {
      "cell_type": "markdown",
      "source": [
        "17.SORU"
      ],
      "metadata": {
        "id": "CbYd-o9QAs2w"
      }
    },
    {
      "cell_type": "code",
      "source": [
        "arr19 = np.arange(35,61)\n",
        "arr19"
      ],
      "metadata": {
        "colab": {
          "base_uri": "https://localhost:8080/"
        },
        "id": "TvzI0ileArOI",
        "outputId": "731b82ba-2497-4226-b8aa-5859181f44d6"
      },
      "execution_count": 63,
      "outputs": [
        {
          "output_type": "execute_result",
          "data": {
            "text/plain": [
              "array([35, 36, 37, 38, 39, 40, 41, 42, 43, 44, 45, 46, 47, 48, 49, 50, 51,\n",
              "       52, 53, 54, 55, 56, 57, 58, 59, 60])"
            ]
          },
          "metadata": {},
          "execution_count": 63
        }
      ]
    },
    {
      "cell_type": "code",
      "source": [
        "np.random.choice(arr19)"
      ],
      "metadata": {
        "colab": {
          "base_uri": "https://localhost:8080/"
        },
        "id": "yYjDA20kBAO1",
        "outputId": "bebbcb80-ded7-421d-acc0-b25f3e447790"
      },
      "execution_count": 64,
      "outputs": [
        {
          "output_type": "execute_result",
          "data": {
            "text/plain": [
              "53"
            ]
          },
          "metadata": {},
          "execution_count": 64
        }
      ]
    },
    {
      "cell_type": "markdown",
      "source": [
        "18.SORU"
      ],
      "metadata": {
        "id": "u69k7FPLC3g4"
      }
    },
    {
      "cell_type": "code",
      "source": [
        "arr20 = np.random.choice([3,8,10,53], size=(2,5))\n",
        "arr20"
      ],
      "metadata": {
        "colab": {
          "base_uri": "https://localhost:8080/"
        },
        "id": "FIq3apIZBI9y",
        "outputId": "537430b9-9a8c-4d60-96ad-501a8b7eecfe"
      },
      "execution_count": 65,
      "outputs": [
        {
          "output_type": "execute_result",
          "data": {
            "text/plain": [
              "array([[ 8, 10, 10, 53,  8],\n",
              "       [10, 53,  8, 53, 53]])"
            ]
          },
          "metadata": {},
          "execution_count": 65
        }
      ]
    },
    {
      "cell_type": "code",
      "source": [],
      "metadata": {
        "id": "mRtQt69-C54H"
      },
      "execution_count": null,
      "outputs": []
    }
  ]
}